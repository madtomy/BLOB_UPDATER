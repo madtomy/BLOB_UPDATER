{
 "cells": [
  {
   "cell_type": "markdown",
   "metadata": {},
   "source": [
    "## Update Fixed XML Files in the database"
   ]
  },
  {
   "cell_type": "code",
   "execution_count": 2,
   "metadata": {},
   "outputs": [],
   "source": [
    "# Import libraries necessary for this project\n",
    "from os import listdir\n",
    "import xml.etree.ElementTree as ET\n",
    "import  pymysql"
   ]
  },
  {
   "cell_type": "code",
   "execution_count": 4,
   "metadata": {},
   "outputs": [],
   "source": [
    "def find_xml_files( path_to_dir, suffix=\".xml\" ):\n",
    "    filenames = listdir(path_to_dir)\n",
    "    return [ filename for filename in filenames if filename.endswith( suffix ) ]"
   ]
  },
  {
   "cell_type": "code",
   "execution_count": 48,
   "metadata": {},
   "outputs": [
    {
     "name": "stdout",
     "output_type": "stream",
     "text": [
      "['2675710.xml']\n"
     ]
    }
   ],
   "source": [
    "root = '.\\\\Fix\\\\'\n",
    "filenames = find_csv_filenames(root)\n",
    "print(filenames)"
   ]
  },
  {
   "cell_type": "code",
   "execution_count": 49,
   "metadata": {
    "scrolled": true
   },
   "outputs": [
    {
     "name": "stdout",
     "output_type": "stream",
     "text": [
      "Done\n"
     ]
    }
   ],
   "source": [
    "for name in filenames: \n",
    "    try:\n",
    "        tree = ET.parse(root+name)\n",
    "        xml_string=ET.tostring(tree.getroot()).decode()\n",
    "        bin_data = xml_string.encode(\"utf-8\")\n",
    "        # Open database connection\n",
    "        db = pymysql.connect(\"Host\",\"USER\",\"password\",\"DBNAME\" )\n",
    "        # prepare a cursor object using cursor() metho\n",
    "        cursor = db.cursor()\n",
    "        # Prepare SQL query to INSERT a record into the database.\n",
    "        sql_insert_blob_query = \"\"\"UPDATE t_content SET data= %s WHERE t_content.iscurrent= %s AND t_content.ID = %s\"\"\"\n",
    "        values = [pymysql.Binary(bin_data),1,name[:-4]]\n",
    "        # Execute the SQL command\n",
    "        cursor.execute(sql_insert_blob_query,args=values)\n",
    "        # Commit your changes in the database\n",
    "        db.commit() \n",
    "    except Exception as e:\n",
    "        print(name)\n",
    "        print(e)\n",
    "    finally:\n",
    "        # disconnect from server\n",
    "        db.close()    \n",
    "print(\"Done\")     \n",
    "\n",
    "    "
   ]
  },
  {
   "cell_type": "code",
   "execution_count": null,
   "metadata": {},
   "outputs": [],
   "source": []
  }
 ],
 "metadata": {
  "kernelspec": {
   "display_name": "Python 3",
   "language": "python",
   "name": "python3"
  },
  "language_info": {
   "codemirror_mode": {
    "name": "ipython",
    "version": 3
   },
   "file_extension": ".py",
   "mimetype": "text/x-python",
   "name": "python",
   "nbconvert_exporter": "python",
   "pygments_lexer": "ipython3",
   "version": "3.7.3"
  }
 },
 "nbformat": 4,
 "nbformat_minor": 2
}
